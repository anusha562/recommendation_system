{
 "cells": [
  {
   "cell_type": "code",
   "execution_count": 10,
   "metadata": {},
   "outputs": [
    {
     "name": "stdout",
     "output_type": "stream",
     "text": [
      "   adult                              belongs_to_collection    budget  \\\n",
      "0  False  {'id': 10194, 'name': 'Toy Story Collection', ...  30000000   \n",
      "1  False                                                NaN  65000000   \n",
      "2  False  {'id': 119050, 'name': 'Grumpy Old Men Collect...         0   \n",
      "3  False                                                NaN  16000000   \n",
      "4  False  {'id': 96871, 'name': 'Father of the Bride Col...         0   \n",
      "\n",
      "                                              genres  \\\n",
      "0  [{'id': 16, 'name': 'Animation'}, {'id': 35, '...   \n",
      "1  [{'id': 12, 'name': 'Adventure'}, {'id': 14, '...   \n",
      "2  [{'id': 10749, 'name': 'Romance'}, {'id': 35, ...   \n",
      "3  [{'id': 35, 'name': 'Comedy'}, {'id': 18, 'nam...   \n",
      "4                     [{'id': 35, 'name': 'Comedy'}]   \n",
      "\n",
      "                               homepage     id    imdb_id original_language  \\\n",
      "0  http://toystory.disney.com/toy-story    862  tt0114709                en   \n",
      "1                                   NaN   8844  tt0113497                en   \n",
      "2                                   NaN  15602  tt0113228                en   \n",
      "3                                   NaN  31357  tt0114885                en   \n",
      "4                                   NaN  11862  tt0113041                en   \n",
      "\n",
      "                original_title  \\\n",
      "0                    Toy Story   \n",
      "1                      Jumanji   \n",
      "2             Grumpier Old Men   \n",
      "3            Waiting to Exhale   \n",
      "4  Father of the Bride Part II   \n",
      "\n",
      "                                            overview  ... release_date  \\\n",
      "0  Led by Woody, Andy's toys live happily in his ...  ...   1995-10-30   \n",
      "1  When siblings Judy and Peter discover an encha...  ...   1995-12-15   \n",
      "2  A family wedding reignites the ancient feud be...  ...   1995-12-22   \n",
      "3  Cheated on, mistreated and stepped on, the wom...  ...   1995-12-22   \n",
      "4  Just when George Banks has recovered from his ...  ...   1995-02-10   \n",
      "\n",
      "       revenue runtime                                   spoken_languages  \\\n",
      "0  373554033.0    81.0           [{'iso_639_1': 'en', 'name': 'English'}]   \n",
      "1  262797249.0   104.0  [{'iso_639_1': 'en', 'name': 'English'}, {'iso...   \n",
      "2          0.0   101.0           [{'iso_639_1': 'en', 'name': 'English'}]   \n",
      "3   81452156.0   127.0           [{'iso_639_1': 'en', 'name': 'English'}]   \n",
      "4   76578911.0   106.0           [{'iso_639_1': 'en', 'name': 'English'}]   \n",
      "\n",
      "     status                                            tagline  \\\n",
      "0  Released                                                NaN   \n",
      "1  Released          Roll the dice and unleash the excitement!   \n",
      "2  Released  Still Yelling. Still Fighting. Still Ready for...   \n",
      "3  Released  Friends are the people who let you be yourself...   \n",
      "4  Released  Just When His World Is Back To Normal... He's ...   \n",
      "\n",
      "                         title  video vote_average vote_count  \n",
      "0                    Toy Story  False          7.7     5415.0  \n",
      "1                      Jumanji  False          6.9     2413.0  \n",
      "2             Grumpier Old Men  False          6.5       92.0  \n",
      "3            Waiting to Exhale  False          6.1       34.0  \n",
      "4  Father of the Bride Part II  False          5.7      173.0  \n",
      "\n",
      "[5 rows x 24 columns]\n"
     ]
    }
   ],
   "source": [
    "import pandas as pd\n",
    "import numpy as np\n",
    "from sentence_transformers import SentenceTransformer\n",
    "from sklearn.metrics.pairwise import cosine_similarity\n",
    "import torch\n",
    "\n",
    "# Load the data\n",
    "movies_metadata = pd.read_csv('/Users/anushaanandhan/Downloads/CineCraft/dataset/movies_metadata.csv', low_memory=False)\n",
    "\n",
    "# Print the first few rows to verify the data\n",
    "print(movies_metadata.head())"
   ]
  },
  {
   "cell_type": "code",
   "execution_count": 11,
   "metadata": {},
   "outputs": [
    {
     "name": "stdout",
     "output_type": "stream",
     "text": [
      "      id                        title  \\\n",
      "0    862                    Toy Story   \n",
      "1   8844                      Jumanji   \n",
      "2  15602             Grumpier Old Men   \n",
      "3  31357            Waiting to Exhale   \n",
      "4  11862  Father of the Bride Part II   \n",
      "\n",
      "                                            overview  \\\n",
      "0  Led by Woody, Andy's toys live happily in his ...   \n",
      "1  When siblings Judy and Peter discover an encha...   \n",
      "2  A family wedding reignites the ancient feud be...   \n",
      "3  Cheated on, mistreated and stepped on, the wom...   \n",
      "4  Just when George Banks has recovered from his ...   \n",
      "\n",
      "                         genres original_language  \\\n",
      "0   [Animation, Comedy, Family]                en   \n",
      "1  [Adventure, Fantasy, Family]                en   \n",
      "2             [Romance, Comedy]                en   \n",
      "3      [Comedy, Drama, Romance]                en   \n",
      "4                      [Comedy]                en   \n",
      "\n",
      "                                                text  \n",
      "0  Toy Story Led by Woody, Andy's toys live happi...  \n",
      "1  Jumanji When siblings Judy and Peter discover ...  \n",
      "2  Grumpier Old Men A family wedding reignites th...  \n",
      "3  Waiting to Exhale Cheated on, mistreated and s...  \n",
      "4  Father of the Bride Part II Just when George B...  \n"
     ]
    }
   ],
   "source": [
    "# Select relevant columns\n",
    "movies = movies_metadata[['id', 'title', 'overview', 'genres', 'original_language']]\n",
    "\n",
    "# Remove rows with missing overviews\n",
    "movies = movies.dropna(subset=['overview'])\n",
    "\n",
    "# Convert genres from string to list\n",
    "movies['genres'] = movies['genres'].apply(eval)\n",
    "movies['genres'] = movies['genres'].apply(lambda x: [genre['name'] for genre in x])\n",
    "\n",
    "# Create a text field that combines title, overview, and genres\n",
    "movies['text'] = movies['title'] + ' ' + movies['overview'] + ' ' + movies['genres'].apply(lambda x: ' '.join(x))\n",
    "\n",
    "print(movies.head())"
   ]
  },
  {
   "cell_type": "code",
   "execution_count": 24,
   "metadata": {},
   "outputs": [],
   "source": [
    "movies.to_csv('movies_llm.csv', index=False)"
   ]
  },
  {
   "cell_type": "code",
   "execution_count": 12,
   "metadata": {},
   "outputs": [
    {
     "name": "stderr",
     "output_type": "stream",
     "text": [
      "Batches: 100%|██████████| 1391/1391 [04:02<00:00,  5.75it/s]\n"
     ]
    }
   ],
   "source": [
    "# Load the pre-trained model\n",
    "model = SentenceTransformer('sentence-transformers/all-MiniLM-L6-v2')\n",
    "\n",
    "# Encode the movie descriptions\n",
    "movie_embeddings = model.encode(movies['text'].tolist(), show_progress_bar=True)"
   ]
  },
  {
   "cell_type": "code",
   "execution_count": 14,
   "metadata": {},
   "outputs": [
    {
     "name": "stdout",
     "output_type": "stream",
     "text": [
      "Saving embeddings to CSV...\n"
     ]
    }
   ],
   "source": [
    "#Save embeddings as a CSV file\n",
    "print(\"Saving embeddings to CSV...\")\n",
    "movie_embeddings_df = pd.DataFrame(movie_embeddings)\n",
    "movie_embeddings_df.to_csv('movie_embeddings.csv', index=False)"
   ]
  },
  {
   "cell_type": "code",
   "execution_count": 18,
   "metadata": {},
   "outputs": [],
   "source": [
    "movie_embeddings = pd.read_csv('movie_embeddings.csv')"
   ]
  },
  {
   "cell_type": "code",
   "execution_count": 19,
   "metadata": {},
   "outputs": [],
   "source": [
    "# Convert to tensor for faster computation\n",
    "movie_embeddings_tensor = torch.tensor(movie_embeddings.values)"
   ]
  },
  {
   "cell_type": "code",
   "execution_count": 21,
   "metadata": {},
   "outputs": [],
   "source": [
    "def get_recommendations(query, top_n=5):\n",
    "    # Encode the query\n",
    "    query_embedding = model.encode([query])\n",
    "    \n",
    "    # Convert the query embedding to tensor\n",
    "    query_embedding_tensor = torch.tensor(query_embedding)\n",
    "\n",
    "    # If the movie embeddings are on the GPU, ensure the query is also on the same device\n",
    "    # (optional, if you're using CUDA)\n",
    "    # query_embedding_tensor = query_embedding_tensor.to('cuda')\n",
    "    \n",
    "    # Convert tensor to NumPy array for cosine similarity calculation\n",
    "    query_embedding_numpy = query_embedding_tensor.numpy()\n",
    "\n",
    "    # Calculate cosine similarity between the query embedding and all movie embeddings\n",
    "    similarities = cosine_similarity(query_embedding_numpy, movie_embeddings_tensor.numpy())[0]\n",
    "    \n",
    "    # Get the indices of the top N similar movies\n",
    "    top_indices = similarities.argsort()[-top_n:][::-1]\n",
    "    \n",
    "    # Get the recommended movies from the movies DataFrame (assuming 'movies' DataFrame exists)\n",
    "    recommendations = movies.iloc[top_indices]\n",
    "    \n",
    "    # Return a subset of relevant columns (title, overview, genres)\n",
    "    return recommendations[['title', 'overview', 'genres']]\n"
   ]
  },
  {
   "cell_type": "code",
   "execution_count": 23,
   "metadata": {},
   "outputs": [
    {
     "name": "stdout",
     "output_type": "stream",
     "text": [
      "Recommendations for: I want to watch indian movies\n",
      "                             title  \\\n",
      "37046  Cameraman Ganga Tho Rambabu   \n",
      "41846                  Vehshi Jatt   \n",
      "34286                        Gaiir   \n",
      "33436                   The Indian   \n",
      "15218     Harishchandrachi Factory   \n",
      "\n",
      "                                                overview            genres  \n",
      "37046  As for the film, Cameraman Ganga Tho Rambabu i...  [Foreign, Drama]  \n",
      "41846  Classic Indian film starring Aasia, Afzaal Ahm...                []  \n",
      "34286                                     Bollywood 2009                []  \n",
      "33436  \"The Indian\" is a touching drama about a negli...           [Drama]  \n",
      "15218  The movie depicts efforts and struggle by Dada...   [Comedy, Drama]  \n"
     ]
    }
   ],
   "source": [
    "query = \"I want to watch indian movies\"\n",
    "recommendations = get_recommendations(query)\n",
    "print(\"Recommendations for:\", query)\n",
    "print(recommendations)"
   ]
  },
  {
   "cell_type": "code",
   "execution_count": null,
   "metadata": {},
   "outputs": [],
   "source": []
  }
 ],
 "metadata": {
  "kernelspec": {
   "display_name": "Python 3",
   "language": "python",
   "name": "python3"
  },
  "language_info": {
   "codemirror_mode": {
    "name": "ipython",
    "version": 3
   },
   "file_extension": ".py",
   "mimetype": "text/x-python",
   "name": "python",
   "nbconvert_exporter": "python",
   "pygments_lexer": "ipython3",
   "version": "3.9.6"
  }
 },
 "nbformat": 4,
 "nbformat_minor": 2
}
